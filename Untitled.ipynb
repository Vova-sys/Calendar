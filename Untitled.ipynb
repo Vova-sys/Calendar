{
 "cells": [
  {
   "cell_type": "code",
   "execution_count": 4,
   "metadata": {},
   "outputs": [
    {
     "name": "stdout",
     "output_type": "stream",
     "text": [
      "Collecting ics\n",
      "  Downloading ics-0.7-py2.py3-none-any.whl (42 kB)\n",
      "Collecting tatsu>4.2\n",
      "  Downloading TatSu-5.5.0-py2.py3-none-any.whl (91 kB)\n",
      "Requirement already satisfied: python-dateutil in d:\\calendar\\venv\\lib\\site-packages (from ics) (2.8.1)\n",
      "Collecting arrow<0.15,>=0.11\n",
      "  Downloading arrow-0.14.7-py2.py3-none-any.whl (39 kB)\n",
      "Requirement already satisfied: six>1.5 in d:\\calendar\\venv\\lib\\site-packages (from ics) (1.15.0)\n",
      "Installing collected packages: tatsu, arrow, ics\n",
      "Successfully installed arrow-0.14.7 ics-0.7 tatsu-5.5.0\n",
      "Note: you may need to restart the kernel to use updated packages.\n"
     ]
    }
   ],
   "source": [
    "pip install ics"
   ]
  },
  {
   "cell_type": "code",
   "execution_count": 1,
   "metadata": {},
   "outputs": [],
   "source": [
    "import ics\n"
   ]
  },
  {
   "cell_type": "code",
   "execution_count": 6,
   "metadata": {},
   "outputs": [
    {
     "name": "stdout",
     "output_type": "stream",
     "text": [
      "<class 'ics.icalendar.Calendar'>\n"
     ]
    }
   ],
   "source": [
    "from ics import Calendar, Event\n",
    "\n",
    "def fill_calendar_for_country(self, country):\n",
    "    url = f\"https://www.officeholidays.com/ics/ics_country.php?tbl_country={country.Belarus}\"\n",
    "    try:\n",
    "        calendar = Calendar(get(url).text)\n",
    "    except:\n",
    "        return None\n",
    "    for event in calendar.events:\n",
    "        h = Holiday(\n",
    "            title=event.name,\n",
    "            date_start=event.begin.date(),\n",
    "            duration=event.duration,\n",
    "            country=country\n",
    "        )\n",
    "        try:\n",
    "            h.save()\n",
    "        except:\n",
    "            pass\n",
    "print(Calendar)"
   ]
  },
  {
   "cell_type": "code",
   "execution_count": null,
   "metadata": {},
   "outputs": [],
   "source": []
  }
 ],
 "metadata": {
  "kernelspec": {
   "display_name": "Python 3",
   "language": "python",
   "name": "python3"
  },
  "language_info": {
   "codemirror_mode": {
    "name": "ipython",
    "version": 3
   },
   "file_extension": ".py",
   "mimetype": "text/x-python",
   "name": "python",
   "nbconvert_exporter": "python",
   "pygments_lexer": "ipython3",
   "version": "3.8.6"
  }
 },
 "nbformat": 4,
 "nbformat_minor": 4
}
