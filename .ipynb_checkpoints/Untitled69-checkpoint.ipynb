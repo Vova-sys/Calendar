{
 "cells": [
  {
   "cell_type": "code",
   "execution_count": 2,
   "metadata": {},
   "outputs": [],
   "source": [
    "from ics import Calendar\n",
    "from requests import get"
   ]
  },
  {
   "cell_type": "code",
   "execution_count": 6,
   "metadata": {},
   "outputs": [],
   "source": [
    "url = \"https://www.officeholidays.com/ics/ics_country.php?tbl_country=Belarus\"\n",
    "res = get(url).text\n",
    "c = Calendar(res)"
   ]
  },
  {
   "cell_type": "code",
   "execution_count": 10,
   "metadata": {},
   "outputs": [],
   "source": [
    "e = c.events.pop()"
   ]
  },
  {
   "cell_type": "code",
   "execution_count": 14,
   "metadata": {},
   "outputs": [
    {
     "data": {
      "text/plain": [
       "'A commemoration of the dead on the Second Tuesday after Easter\\n\\nRadonitsa. 9 days after Orthodox Easter\\n\\nInformation provided by www.officeholidays.com'"
      ]
     },
     "execution_count": 14,
     "metadata": {},
     "output_type": "execute_result"
    }
   ],
   "source": [
    "e.description"
   ]
  },
  {
   "cell_type": "code",
   "execution_count": 16,
   "metadata": {},
   "outputs": [
    {
     "data": {
      "text/plain": [
       "True"
      ]
     },
     "execution_count": 16,
     "metadata": {},
     "output_type": "execute_result"
    }
   ],
   "source": [
    "e.all_day"
   ]
  },
  {
   "cell_type": "code",
   "execution_count": 21,
   "metadata": {},
   "outputs": [
    {
     "data": {
      "text/plain": [
       "datetime.date(2021, 5, 11)"
      ]
     },
     "execution_count": 21,
     "metadata": {},
     "output_type": "execute_result"
    }
   ],
   "source": [
    "e.begin.date()"
   ]
  },
  {
   "cell_type": "code",
   "execution_count": 19,
   "metadata": {},
   "outputs": [
    {
     "data": {
      "text/plain": [
       "datetime.timedelta(days=1)"
      ]
     },
     "execution_count": 19,
     "metadata": {},
     "output_type": "execute_result"
    }
   ],
   "source": [
    "e.duration"
   ]
  },
  {
   "cell_type": "code",
   "execution_count": 20,
   "metadata": {},
   "outputs": [
    {
     "data": {
      "text/plain": [
       "'Belarus: Commemoration Day'"
      ]
     },
     "execution_count": 20,
     "metadata": {},
     "output_type": "execute_result"
    }
   ],
   "source": [
    "e.name"
   ]
  },
  {
   "cell_type": "code",
   "execution_count": 23,
   "metadata": {},
   "outputs": [],
   "source": [
    "from bs4 import BeautifulSoup\n",
    "url = \"https://www.officeholidays.com/countries\"\n",
    "res = get(url).text\n",
    "soup = BeautifulSoup(res)"
   ]
  },
  {
   "cell_type": "code",
   "execution_count": 33,
   "metadata": {},
   "outputs": [
    {
     "data": {
      "text/plain": [
       "[['Afghanistan',\n",
       "  'Albania',\n",
       "  'Algeria',\n",
       "  'American Samoa',\n",
       "  'Andorra',\n",
       "  'Angola',\n",
       "  'Anguilla',\n",
       "  'Antigua and Barbuda',\n",
       "  'Argentina',\n",
       "  'Armenia',\n",
       "  'Aruba',\n",
       "  'Australia',\n",
       "  'Austria',\n",
       "  'Azerbaijan',\n",
       "  'Bahamas',\n",
       "  'Bahrain',\n",
       "  'Bangladesh',\n",
       "  'Barbados',\n",
       "  'Belarus',\n",
       "  'Belgium',\n",
       "  'Belize',\n",
       "  'Benin',\n",
       "  'Bermuda',\n",
       "  'Bhutan',\n",
       "  'Bolivia',\n",
       "  'Bonaire, Sint Eustatius and Saba',\n",
       "  'Bosnia and Herzegovina',\n",
       "  'Botswana',\n",
       "  'Brazil',\n",
       "  'British Virgin Islands',\n",
       "  'Brunei',\n",
       "  'Bulgaria',\n",
       "  'Burkina Faso',\n",
       "  'Burundi',\n",
       "  'Cambodia',\n",
       "  'Cameroon',\n",
       "  'Canada',\n",
       "  'Cape Verde',\n",
       "  'Cayman Islands',\n",
       "  'Central African Republic',\n",
       "  'Chad',\n",
       "  'Chile',\n",
       "  'China',\n",
       "  'Colombia',\n",
       "  'Comoros',\n",
       "  'Congo',\n",
       "  'Costa Rica',\n",
       "  'Croatia',\n",
       "  'Cuba',\n",
       "  'Curaçao',\n",
       "  'Cyprus',\n",
       "  'Czech Republic',\n",
       "  'Denmark',\n",
       "  'Djibouti',\n",
       "  'Dominica',\n",
       "  'Dominican Republic',\n",
       "  'DR Congo',\n",
       "  'East Timor',\n",
       "  'Ecuador',\n",
       "  'Egypt',\n",
       "  'El Salvador',\n",
       "  'Equatorial Guinea',\n",
       "  'Eritrea',\n",
       "  'Estonia',\n",
       "  'Eswatini',\n",
       "  'Ethiopia',\n",
       "  'Faroe Islands',\n",
       "  'Fiji',\n",
       "  'Finland',\n",
       "  'France',\n",
       "  'French Guiana',\n",
       "  'French Polynesia',\n",
       "  'Gabon',\n",
       "  'Gambia'],\n",
       " ['Georgia',\n",
       "  'Germany',\n",
       "  'Ghana',\n",
       "  'Gibraltar',\n",
       "  'Greece',\n",
       "  'Greenland',\n",
       "  'Grenada',\n",
       "  'Guadeloupe',\n",
       "  'Guam',\n",
       "  'Guatemala',\n",
       "  'Guernsey',\n",
       "  'Guinea',\n",
       "  'Guinea-Bissau',\n",
       "  'Guyana',\n",
       "  'Haiti',\n",
       "  'Honduras',\n",
       "  'Hong Kong',\n",
       "  'Hungary',\n",
       "  'Iceland',\n",
       "  'India',\n",
       "  'Indonesia',\n",
       "  'Iran',\n",
       "  'Iraq',\n",
       "  'Ireland',\n",
       "  'Isle of Man',\n",
       "  'Israel',\n",
       "  'Italy',\n",
       "  'Ivory Coast',\n",
       "  'Jamaica',\n",
       "  'Japan',\n",
       "  'Jersey',\n",
       "  'Jordan',\n",
       "  'Kazakhstan',\n",
       "  'Kenya',\n",
       "  'Kiribati',\n",
       "  'Kosovo',\n",
       "  'Kuwait',\n",
       "  'Kyrgyzstan',\n",
       "  'Lao',\n",
       "  'Latvia',\n",
       "  'Lebanon',\n",
       "  'Lesotho',\n",
       "  'Liberia',\n",
       "  'Libya',\n",
       "  'Liechtenstein',\n",
       "  'Lithuania',\n",
       "  'Luxembourg',\n",
       "  'Macau',\n",
       "  'Madagascar',\n",
       "  'Malawi',\n",
       "  'Malaysia',\n",
       "  'Maldives',\n",
       "  'Mali',\n",
       "  'Malta',\n",
       "  'Martinique',\n",
       "  'Mauritania',\n",
       "  'Mauritius',\n",
       "  'Mexico',\n",
       "  'Moldova',\n",
       "  'Monaco',\n",
       "  'Mongolia',\n",
       "  'Montenegro',\n",
       "  'Montserrat',\n",
       "  'Morocco',\n",
       "  'Mozambique',\n",
       "  'Myanmar',\n",
       "  'Namibia',\n",
       "  'Nepal',\n",
       "  'Netherlands',\n",
       "  'New Caledonia',\n",
       "  'New Zealand',\n",
       "  'Nicaragua',\n",
       "  'Niger',\n",
       "  'Nigeria'],\n",
       " ['North Korea',\n",
       "  'North Macedonia',\n",
       "  'Norway',\n",
       "  'Oman',\n",
       "  'Pakistan',\n",
       "  'Palestine',\n",
       "  'Panama',\n",
       "  'Papua New Guinea',\n",
       "  'Paraguay',\n",
       "  'Peru',\n",
       "  'Philippines',\n",
       "  'Poland',\n",
       "  'Portugal',\n",
       "  'Puerto Rico',\n",
       "  'Qatar',\n",
       "  'Romania',\n",
       "  'Russia',\n",
       "  'Rwanda',\n",
       "  'Saint Barthélemy',\n",
       "  'Saint Kitts and Nevis',\n",
       "  'Saint Lucia',\n",
       "  'Saint Martin',\n",
       "  'Saint Vincent and the Grenadines',\n",
       "  'Samoa',\n",
       "  'San Marino',\n",
       "  'São Tomé and Príncipe',\n",
       "  'Saudi Arabia',\n",
       "  'Senegal',\n",
       "  'Serbia',\n",
       "  'Seychelles',\n",
       "  'Sierra Leone',\n",
       "  'Singapore',\n",
       "  'Sint Maarten',\n",
       "  'Slovakia',\n",
       "  'Slovenia',\n",
       "  'Solomon Islands',\n",
       "  'Somalia',\n",
       "  'South Africa',\n",
       "  'South Korea',\n",
       "  'South Sudan',\n",
       "  'Spain',\n",
       "  'Sri Lanka',\n",
       "  'Sudan',\n",
       "  'Suriname',\n",
       "  'Sweden',\n",
       "  'Switzerland',\n",
       "  'Syria',\n",
       "  'Taiwan',\n",
       "  'Tajikistan',\n",
       "  'Tanzania',\n",
       "  'Thailand',\n",
       "  'Togo',\n",
       "  'Tonga',\n",
       "  'Trinidad and Tobago',\n",
       "  'Tunisia',\n",
       "  'Turkey',\n",
       "  'Turkmenistan',\n",
       "  'Turks and Caicos Islands',\n",
       "  'Uganda',\n",
       "  'Ukraine',\n",
       "  'United Arab Emirates',\n",
       "  'United Kingdom',\n",
       "  'Uruguay',\n",
       "  'US Virgin Islands',\n",
       "  'USA',\n",
       "  'Uzbekistan',\n",
       "  'Vanuatu',\n",
       "  'Vatican City',\n",
       "  'Venezuela',\n",
       "  'Vietnam',\n",
       "  'Wallis and Futuna',\n",
       "  'Yemen',\n",
       "  'Zambia',\n",
       "  'Zimbabwe']]"
      ]
     },
     "execution_count": 33,
     "metadata": {},
     "output_type": "execute_result"
    }
   ],
   "source": [
    "[[j.text.strip() for j in i.find_all(\"a\")] for i in soup.find_all(\"div\",{\"class\":\"four omega columns\"})]"
   ]
  }
 ],
 "metadata": {
  "kernelspec": {
   "display_name": "Python 3",
   "language": "python",
   "name": "python3"
  },
  "language_info": {
   "codemirror_mode": {
    "name": "ipython",
    "version": 3
   },
   "file_extension": ".py",
   "mimetype": "text/x-python",
   "name": "python",
   "nbconvert_exporter": "python",
   "pygments_lexer": "ipython3",
   "version": "3.8.6"
  }
 },
 "nbformat": 4,
 "nbformat_minor": 2
}
